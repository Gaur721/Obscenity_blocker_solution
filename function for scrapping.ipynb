{
 "cells": [
  {
   "cell_type": "code",
   "execution_count": 15,
   "id": "c3c965bd",
   "metadata": {},
   "outputs": [
    {
     "name": "stdout",
     "output_type": "stream",
     "text": [
      "https://fastporndelivery.hqporner.com/imgs/40/64/7f341fbebd4b1cb_2.jpg\n"
     ]
    }
   ],
   "source": [
    "def test_url_generator() -> str:\n",
    "    import requests\n",
    "    from bs4 import BeautifulSoup\n",
    "    import re\n",
    "    # Define the URL of the webpage you want to download\n",
    "    url = \"https://hqporner.com\"\n",
    "\n",
    "    # Send a GET request to the URL and retrieve the HTML content\n",
    "    response = requests.get(url)\n",
    "    html_content = response.text\n",
    "\n",
    "    # Create a BeautifulSoup object to parse the HTML\n",
    "    soup = BeautifulSoup(html_content, 'html.parser')\n",
    "\n",
    "    # Find all the <a> tags in the HTML and extract the href attribute\n",
    "    hrefs = [a['href'] for a in soup.find_all('a', href=True)]\n",
    "\n",
    "    # Print the extracted href attributes\n",
    "    #for href in hrefs:\n",
    "\n",
    "    pattern = r\"^/hdporn/.*\\.html$\"\n",
    "    filtered_lines = [line for line in hrefs if re.match(pattern, line)]\n",
    "\n",
    "    video=f\"https://hqporner.com{filtered_lines[0]}\"\n",
    "\n",
    "    response = requests.get(video)\n",
    "    html_content = response.text\n",
    "    soup = BeautifulSoup(html_content, 'html.parser')\n",
    "\n",
    "    pattern = r\"fastporndelivery.*?jpg\"\n",
    "\n",
    "    script_tags = soup.find_all('script')\n",
    "\n",
    "    urls = []\n",
    "    for script_tag in script_tags:\n",
    "        script_content = script_tag.string\n",
    "        if script_content:\n",
    "            matches = re.findall(pattern, script_content)\n",
    "            urls.extend(matches)\n",
    "    return f\"https://{urls[1]}\"\n",
    "\n"
   ]
  },
  {
   "cell_type": "code",
   "execution_count": null,
   "id": "d83de98b",
   "metadata": {},
   "outputs": [],
   "source": []
  }
 ],
 "metadata": {
  "kernelspec": {
   "display_name": "Python 3 (ipykernel)",
   "language": "python",
   "name": "python3"
  },
  "language_info": {
   "codemirror_mode": {
    "name": "ipython",
    "version": 3
   },
   "file_extension": ".py",
   "mimetype": "text/x-python",
   "name": "python",
   "nbconvert_exporter": "python",
   "pygments_lexer": "ipython3",
   "version": "3.10.9"
  }
 },
 "nbformat": 4,
 "nbformat_minor": 5
}
